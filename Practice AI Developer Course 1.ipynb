{
 "cells": [
  {
   "cell_type": "markdown",
   "metadata": {},
   "source": [
    "## Practicing building a convolutional network and training it using ImageDataGenerator"
   ]
  },
  {
   "cell_type": "code",
   "execution_count": 1,
   "metadata": {
    "collapsed": true
   },
   "outputs": [],
   "source": [
    "import tensorflow as tf"
   ]
  },
  {
   "cell_type": "code",
   "execution_count": 2,
   "metadata": {
    "collapsed": true
   },
   "outputs": [],
   "source": [
    "import numpy as np\n",
    "import pandas as pd\n",
    "import matplotlib.pyplot as plt\n",
    "import seaborn as sns\n",
    "sns.set()\n",
    "%matplotlib inline"
   ]
  },
  {
   "cell_type": "code",
   "execution_count": 3,
   "metadata": {},
   "outputs": [
    {
     "data": {
      "text/plain": [
       "'2.3.0'"
      ]
     },
     "execution_count": 3,
     "metadata": {},
     "output_type": "execute_result"
    }
   ],
   "source": [
    "tf.__version__"
   ]
  },
  {
   "cell_type": "code",
   "execution_count": 4,
   "metadata": {
    "collapsed": true
   },
   "outputs": [],
   "source": [
    "import os\n",
    "import zipfile\n",
    "import random\n",
    "from shutil import copyfile\n",
    "from tensorflow.keras.preprocessing.image import ImageDataGenerator\n",
    "from tensorflow.keras.optimizers import RMSprop"
   ]
  },
  {
   "cell_type": "code",
   "execution_count": 10,
   "metadata": {
    "collapsed": true
   },
   "outputs": [],
   "source": [
    "import wget"
   ]
  },
  {
   "cell_type": "code",
   "execution_count": 18,
   "metadata": {
    "collapsed": true
   },
   "outputs": [],
   "source": [
    "os.mkdir('tmp')"
   ]
  },
  {
   "cell_type": "code",
   "execution_count": 33,
   "metadata": {},
   "outputs": [
    {
     "name": "stdout",
     "output_type": "stream",
     "text": [
      "\n",
      "Saved under tmp//kagglecatsanddogs_3367a.zip\n"
     ]
    }
   ],
   "source": [
    "!python -m wget -o \"tmp/\" \"https://download.microsoft.com/download/3/E/1/3E1C3F21-ECDB-4869-8368-6DEBA77B919F/kagglecatsanddogs_3367a.zip\""
   ]
  },
  {
   "cell_type": "code",
   "execution_count": 36,
   "metadata": {
    "collapsed": true
   },
   "outputs": [],
   "source": [
    "localzip = 'tmp/kagglecatsanddogs_3367a.zip'\n",
    "zipref = zipfile.ZipFile(localzip, mode='r')\n",
    "zipref.extractall('tmp/')\n",
    "zipref.close()"
   ]
  },
  {
   "cell_type": "code",
   "execution_count": 39,
   "metadata": {},
   "outputs": [
    {
     "name": "stdout",
     "output_type": "stream",
     "text": [
      "12501\n",
      "12501\n"
     ]
    }
   ],
   "source": [
    "print(len(os.listdir('tmp/PetImages/Cat')))\n",
    "print(len(os.listdir('tmp/PetImages/Dog')))"
   ]
  },
  {
   "cell_type": "code",
   "execution_count": 40,
   "metadata": {
    "collapsed": true
   },
   "outputs": [],
   "source": [
    "os.mkdir('cats-vs-dogs')\n",
    "os.mkdir('cats-vs-dogs/train')\n",
    "os.mkdir('cats-vs-dogs/test')\n",
    "os.mkdir('cats-vs-dogs/train/cats')\n",
    "os.mkdir('cats-vs-dogs/train/dogs')\n",
    "os.mkdir('cats-vs-dogs/test/cats')\n",
    "os.mkdir('cats-vs-dogs/test/dogs')"
   ]
  },
  {
   "cell_type": "code",
   "execution_count": 41,
   "metadata": {
    "collapsed": true
   },
   "outputs": [],
   "source": [
    "def split_data(SOURCEDIR, TRAININGDIR, TESTINGDIR, SPLIT_SIZE):\n",
    "    file_names = os.listdir(SOURCEDIR)\n",
    "    file_names_random = random.sample(file_names, len(file_names))\n",
    "    \n",
    "    for file in file_names_random[:int(SPLIT_SIZE*len(file_names_random))]:\n",
    "        if os.path.getsize(SOURCEDIR+file) > 0:\n",
    "            copyfile(SOURCEDIR+file, TRAININGDIR+file)\n",
    "    \n",
    "    for file in file_names_random[int(SPLIT_SIZE*len(file_names_random)):]:\n",
    "        if os.path.getsize(SOURCEDIR+file) > 0:\n",
    "            copyfile(SOURCEDIR+file, TESTINGDIR+file)\n",
    "    \n",
    "    traincount = len(os.listdir(TRAININGDIR))\n",
    "    testcount = len(os.listdir(TESTINGDIR))\n",
    "    \n",
    "    return f\"Files in training folder: {traincount}, testing folder: {testcount}\"    "
   ]
  },
  {
   "cell_type": "code",
   "execution_count": 43,
   "metadata": {},
   "outputs": [
    {
     "data": {
      "text/plain": [
       "'Files in training folder: 11249, testing folder: 1251'"
      ]
     },
     "execution_count": 43,
     "metadata": {},
     "output_type": "execute_result"
    }
   ],
   "source": [
    "split_data('tmp/PetImages/Cat/', 'cats-vs-dogs/train/cats/', 'cats-vs-dogs/test/cats/', 0.9)"
   ]
  },
  {
   "cell_type": "code",
   "execution_count": 44,
   "metadata": {},
   "outputs": [
    {
     "data": {
      "text/plain": [
       "'Files in training folder: 11249, testing folder: 1251'"
      ]
     },
     "execution_count": 44,
     "metadata": {},
     "output_type": "execute_result"
    }
   ],
   "source": [
    "split_data('tmp/PetImages/Dog/', 'cats-vs-dogs/train/dogs/', 'cats-vs-dogs/test/dogs/', 0.9)"
   ]
  },
  {
   "cell_type": "code",
   "execution_count": 57,
   "metadata": {},
   "outputs": [
    {
     "name": "stdout",
     "output_type": "stream",
     "text": [
      "Found 22496 images belonging to 2 classes.\n"
     ]
    }
   ],
   "source": [
    "traindir = 'cats-vs-dogs/train'\n",
    "train_datagen = ImageDataGenerator(rescale=1./255)\n",
    "train_datagenerator = train_datagen.flow_from_directory(traindir, target_size=(150,150), batch_size = 10, class_mode='binary')"
   ]
  },
  {
   "cell_type": "code",
   "execution_count": 58,
   "metadata": {},
   "outputs": [
    {
     "name": "stdout",
     "output_type": "stream",
     "text": [
      "Found 2502 images belonging to 2 classes.\n"
     ]
    }
   ],
   "source": [
    "testdir = 'cats-vs-dogs/test'\n",
    "test_datagen = ImageDataGenerator(rescale=1./255)\n",
    "test_datagenerator = test_datagen.flow_from_directory(testdir, target_size=(150,150), batch_size = 10, class_mode='binary')"
   ]
  },
  {
   "cell_type": "code",
   "execution_count": 59,
   "metadata": {
    "collapsed": true
   },
   "outputs": [],
   "source": [
    "model = tf.keras.Sequential([\n",
    "    tf.keras.layers.Conv2D(32, (3,3), strides= (2,2), activation='relu', input_shape=(150, 150, 3)),\n",
    "    tf.keras.layers.MaxPool2D((2,2)),\n",
    "    tf.keras.layers.Conv2D(32, (3,3), activation='relu'),\n",
    "    tf.keras.layers.MaxPool2D((2,2)),\n",
    "    tf.keras.layers.Flatten(),\n",
    "    tf.keras.layers.Dense(128, activation='relu'),\n",
    "    tf.keras.layers.Dense(1, activation='sigmoid')\n",
    "])"
   ]
  },
  {
   "cell_type": "code",
   "execution_count": 60,
   "metadata": {},
   "outputs": [
    {
     "name": "stdout",
     "output_type": "stream",
     "text": [
      "Model: \"sequential_3\"\n",
      "_________________________________________________________________\n",
      "Layer (type)                 Output Shape              Param #   \n",
      "=================================================================\n",
      "conv2d_6 (Conv2D)            (None, 74, 74, 32)        896       \n",
      "_________________________________________________________________\n",
      "max_pooling2d_6 (MaxPooling2 (None, 37, 37, 32)        0         \n",
      "_________________________________________________________________\n",
      "conv2d_7 (Conv2D)            (None, 35, 35, 32)        9248      \n",
      "_________________________________________________________________\n",
      "max_pooling2d_7 (MaxPooling2 (None, 17, 17, 32)        0         \n",
      "_________________________________________________________________\n",
      "flatten_3 (Flatten)          (None, 9248)              0         \n",
      "_________________________________________________________________\n",
      "dense_6 (Dense)              (None, 128)               1183872   \n",
      "_________________________________________________________________\n",
      "dense_7 (Dense)              (None, 1)                 129       \n",
      "=================================================================\n",
      "Total params: 1,194,145\n",
      "Trainable params: 1,194,145\n",
      "Non-trainable params: 0\n",
      "_________________________________________________________________\n"
     ]
    }
   ],
   "source": [
    "model.summary()"
   ]
  },
  {
   "cell_type": "code",
   "execution_count": 61,
   "metadata": {
    "collapsed": true
   },
   "outputs": [],
   "source": [
    "model.compile(optimizer=RMSprop(lr=0.001), loss='binary_crossentropy', metrics=['accuracy'])"
   ]
  },
  {
   "cell_type": "code",
   "execution_count": 62,
   "metadata": {
    "scrolled": true
   },
   "outputs": [
    {
     "name": "stdout",
     "output_type": "stream",
     "text": [
      "Epoch 1/5\n",
      "1151/2250 [==============>...............] - ETA: 3:05 - loss: 0.6350 - accuracy: 0.6469"
     ]
    },
    {
     "name": "stderr",
     "output_type": "stream",
     "text": [
      "e:\\DataScience\\tf\\lib\\site-packages\\PIL\\TiffImagePlugin.py:766: UserWarning: Possibly corrupt EXIF data.  Expecting to read 32 bytes but only got 0. Skipping tag 270\n",
      "  \" Skipping tag %s\" % (size, len(data), tag)\n",
      "e:\\DataScience\\tf\\lib\\site-packages\\PIL\\TiffImagePlugin.py:766: UserWarning: Possibly corrupt EXIF data.  Expecting to read 5 bytes but only got 0. Skipping tag 271\n",
      "  \" Skipping tag %s\" % (size, len(data), tag)\n",
      "e:\\DataScience\\tf\\lib\\site-packages\\PIL\\TiffImagePlugin.py:766: UserWarning: Possibly corrupt EXIF data.  Expecting to read 8 bytes but only got 0. Skipping tag 272\n",
      "  \" Skipping tag %s\" % (size, len(data), tag)\n",
      "e:\\DataScience\\tf\\lib\\site-packages\\PIL\\TiffImagePlugin.py:766: UserWarning: Possibly corrupt EXIF data.  Expecting to read 8 bytes but only got 0. Skipping tag 282\n",
      "  \" Skipping tag %s\" % (size, len(data), tag)\n",
      "e:\\DataScience\\tf\\lib\\site-packages\\PIL\\TiffImagePlugin.py:766: UserWarning: Possibly corrupt EXIF data.  Expecting to read 8 bytes but only got 0. Skipping tag 283\n",
      "  \" Skipping tag %s\" % (size, len(data), tag)\n",
      "e:\\DataScience\\tf\\lib\\site-packages\\PIL\\TiffImagePlugin.py:766: UserWarning: Possibly corrupt EXIF data.  Expecting to read 20 bytes but only got 0. Skipping tag 306\n",
      "  \" Skipping tag %s\" % (size, len(data), tag)\n",
      "e:\\DataScience\\tf\\lib\\site-packages\\PIL\\TiffImagePlugin.py:766: UserWarning: Possibly corrupt EXIF data.  Expecting to read 48 bytes but only got 0. Skipping tag 532\n",
      "  \" Skipping tag %s\" % (size, len(data), tag)\n",
      "e:\\DataScience\\tf\\lib\\site-packages\\PIL\\TiffImagePlugin.py:785: UserWarning: Corrupt EXIF data.  Expecting to read 2 bytes but only got 0. \n",
      "  warnings.warn(str(msg))\n"
     ]
    },
    {
     "name": "stdout",
     "output_type": "stream",
     "text": [
      "2250/2250 [==============================] - 532s 237ms/step - loss: 0.5965 - accuracy: 0.6842 - val_loss: 0.5128 - val_accuracy: 0.7474\n",
      "Epoch 2/5\n",
      "2250/2250 [==============================] - 422s 187ms/step - loss: 0.4994 - accuracy: 0.7633 - val_loss: 0.5048 - val_accuracy: 0.7698\n",
      "Epoch 3/5\n",
      "2250/2250 [==============================] - 401s 178ms/step - loss: 0.4665 - accuracy: 0.7859 - val_loss: 0.4941 - val_accuracy: 0.7814\n",
      "Epoch 4/5\n",
      "2250/2250 [==============================] - 403s 179ms/step - loss: 0.4382 - accuracy: 0.8035 - val_loss: 0.4339 - val_accuracy: 0.8114\n",
      "Epoch 5/5\n",
      "2250/2250 [==============================] - 585s 260ms/step - loss: 0.4191 - accuracy: 0.8143 - val_loss: 0.4585 - val_accuracy: 0.7954\n"
     ]
    }
   ],
   "source": [
    "history = model.fit_generator(train_datagenerator, epochs=5, verbose=1, validation_data=test_datagenerator)"
   ]
  },
  {
   "cell_type": "code",
   "execution_count": 67,
   "metadata": {},
   "outputs": [
    {
     "name": "stderr",
     "output_type": "stream",
     "text": [
      "No handles with labels found to put in legend.\n"
     ]
    },
    {
     "data": {
      "text/plain": [
       "Text(0.5, 1.0, 'Training and Validation Loss')"
      ]
     },
     "execution_count": 67,
     "metadata": {},
     "output_type": "execute_result"
    },
    {
     "data": {
      "image/png": "[encoded data removed]",
      "text/plain": [
       "<Figure size 432x288 with 1 Axes>"
      ]
     },
     "metadata": {
      "needs_background": "light"
     },
     "output_type": "display_data"
    },
    {
     "data": {
      "image/png": "[encoded data removed]",
      "text/plain": [
       "<Figure size 432x288 with 1 Axes>"
      ]
     },
     "metadata": {
      "needs_background": "light"
     },
     "output_type": "display_data"
    }
   ],
   "source": [
    "#Print model statistics\n",
    "acc = history.history['accuracy']\n",
    "val_acc = history.history['val_accuracy']\n",
    "loss = history.history['loss']\n",
    "val_loss = history.history['val_loss']\n",
    "n_epochs = range(len(acc))\n",
    "\n",
    "import matplotlib.image as mpimg\n",
    "\n",
    "plt.plot(n_epochs, acc, 'r', 'Training accuracy')\n",
    "plt.plot(n_epochs, val_acc, 'b', 'Validation accuracy')\n",
    "plt.title('Training and Validation Accuracy')\n",
    "plt.ylim(0,1)\n",
    "plt.ylabel('Accuracy')\n",
    "plt.legend()\n",
    "plt.figure()\n",
    "\n",
    "\n",
    "plt.plot(n_epochs, loss, 'r', 'Training loss')\n",
    "plt.plot(n_epochs, val_loss, 'b', 'Validation loss')\n",
    "plt.title('Training and Validation Loss')"
   ]
  },
  {
   "cell_type": "code",
   "execution_count": 71,
   "metadata": {},
   "outputs": [
    {
     "name": "stdout",
     "output_type": "stream",
     "text": [
      "[[0.]]\n"
     ]
    }
   ],
   "source": [
    "from tensorflow.keras.preprocessing import image\n",
    "img = image.load_img('2.jpg',target_size=(150,150,3))\n",
    "x = image.img_to_array(img)\n",
    "x = np.expand_dims(x,axis = 0)\n",
    "classes = model.predict(x)\n",
    "print(classes)"
   ]
  },
  {
   "cell_type": "code",
   "execution_count": 119,
   "metadata": {
    "collapsed": true
   },
   "outputs": [],
   "source": [
    "classes = test_datagenerator.class_indices"
   ]
  },
  {
   "cell_type": "code",
   "execution_count": 120,
   "metadata": {
    "collapsed": true
   },
   "outputs": [],
   "source": [
    "classes = {v: k for (k,v) in classes.items()}"
   ]
  },
  {
   "cell_type": "code",
   "execution_count": 121,
   "metadata": {},
   "outputs": [
    {
     "data": {
      "text/plain": [
       "{0: 'cats', 1: 'dogs'}"
      ]
     },
     "execution_count": 121,
     "metadata": {},
     "output_type": "execute_result"
    }
   ],
   "source": [
    "classes"
   ]
  },
  {
   "cell_type": "code",
   "execution_count": 75,
   "metadata": {},
   "outputs": [
    {
     "name": "stdout",
     "output_type": "stream",
     "text": [
      "It's a Cat!\n"
     ]
    }
   ],
   "source": [
    "if classes[0]>0.5:\n",
    "    print(\"It's a Dog!\")\n",
    "else:\n",
    "    print(\"It's a Cat!\")"
   ]
  },
  {
   "cell_type": "code",
   "execution_count": 91,
   "metadata": {
    "scrolled": true
   },
   "outputs": [
    {
     "name": "stdout",
     "output_type": "stream",
     "text": [
      "Found 12 images belonging to 1 classes.\n"
     ]
    }
   ],
   "source": [
    "testing_gen = ImageDataGenerator(rescale=1./255)\n",
    "testing_generator = testing_gen.flow_from_directory('test_images/', target_size=(150,150), batch_size=4, class_mode=None,shuffle=False)"
   ]
  },
  {
   "cell_type": "code",
   "execution_count": 92,
   "metadata": {},
   "outputs": [
    {
     "name": "stdout",
     "output_type": "stream",
     "text": [
      "3/3 [==============================] - 0s 10ms/step\n"
     ]
    }
   ],
   "source": [
    "predictions = model.predict_generator(testing_generator, steps=3, verbose=1)"
   ]
  },
  {
   "cell_type": "code",
   "execution_count": 104,
   "metadata": {
    "collapsed": true
   },
   "outputs": [],
   "source": [
    "pred = list(np.squeeze(predictions))"
   ]
  },
  {
   "cell_type": "code",
   "execution_count": 105,
   "metadata": {
    "collapsed": true
   },
   "outputs": [],
   "source": [
    "file_names = testing_generator.filenames"
   ]
  },
  {
   "cell_type": "code",
   "execution_count": 106,
   "metadata": {
    "collapsed": true
   },
   "outputs": [],
   "source": [
    "preds = [1 if pred>0.5 else 0 for pred in pred]"
   ]
  },
  {
   "cell_type": "code",
   "execution_count": 122,
   "metadata": {
    "collapsed": true
   },
   "outputs": [],
   "source": [
    "class_indices = [classes[preds] for preds in preds]"
   ]
  },
  {
   "cell_type": "code",
   "execution_count": 123,
   "metadata": {
    "collapsed": true
   },
   "outputs": [],
   "source": [
    "df = pd.DataFrame({'Filenames': file_names, 'Probabilities':pred, \n",
    "                   'Predictions': preds, \n",
    "                   'Classes': class_indices})"
   ]
  },
  {
   "cell_type": "code",
   "execution_count": 124,
   "metadata": {},
   "outputs": [
    {
     "data": {
      "text/html": [
       "<div>\n",
       "<style scoped>\n",
       "    .dataframe tbody tr th:only-of-type {\n",
       "        vertical-align: middle;\n",
       "    }\n",
       "\n",
       "    .dataframe tbody tr th {\n",
       "        vertical-align: top;\n",
       "    }\n",
       "\n",
       "    .dataframe thead th {\n",
       "        text-align: right;\n",
       "    }\n",
       "</style>\n",
       "<table border=\"1\" class=\"dataframe\">\n",
       "  <thead>\n",
       "    <tr style=\"text-align: right;\">\n",
       "      <th></th>\n",
       "      <th>Filenames</th>\n",
       "      <th>Probabilities</th>\n",
       "      <th>Predictions</th>\n",
       "      <th>Classes</th>\n",
       "    </tr>\n",
       "  </thead>\n",
       "  <tbody>\n",
       "    <tr>\n",
       "      <th>0</th>\n",
       "      <td>pred\\2.jpg</td>\n",
       "      <td>0.103353</td>\n",
       "      <td>0</td>\n",
       "      <td>cats</td>\n",
       "    </tr>\n",
       "    <tr>\n",
       "      <th>1</th>\n",
       "      <td>pred\\235.jpg</td>\n",
       "      <td>0.001603</td>\n",
       "      <td>0</td>\n",
       "      <td>cats</td>\n",
       "    </tr>\n",
       "    <tr>\n",
       "      <th>2</th>\n",
       "      <td>pred\\241.jpg</td>\n",
       "      <td>0.419287</td>\n",
       "      <td>0</td>\n",
       "      <td>cats</td>\n",
       "    </tr>\n",
       "    <tr>\n",
       "      <th>3</th>\n",
       "      <td>pred\\244.jpg</td>\n",
       "      <td>0.215577</td>\n",
       "      <td>0</td>\n",
       "      <td>cats</td>\n",
       "    </tr>\n",
       "    <tr>\n",
       "      <th>4</th>\n",
       "      <td>pred\\257.jpg</td>\n",
       "      <td>0.511495</td>\n",
       "      <td>1</td>\n",
       "      <td>dogs</td>\n",
       "    </tr>\n",
       "    <tr>\n",
       "      <th>5</th>\n",
       "      <td>pred\\267.jpg</td>\n",
       "      <td>0.280132</td>\n",
       "      <td>0</td>\n",
       "      <td>cats</td>\n",
       "    </tr>\n",
       "    <tr>\n",
       "      <th>6</th>\n",
       "      <td>pred\\29.jpg</td>\n",
       "      <td>0.186521</td>\n",
       "      <td>0</td>\n",
       "      <td>cats</td>\n",
       "    </tr>\n",
       "    <tr>\n",
       "      <th>7</th>\n",
       "      <td>pred\\292.jpg</td>\n",
       "      <td>0.306530</td>\n",
       "      <td>0</td>\n",
       "      <td>cats</td>\n",
       "    </tr>\n",
       "    <tr>\n",
       "      <th>8</th>\n",
       "      <td>pred\\30.jpg</td>\n",
       "      <td>0.903336</td>\n",
       "      <td>1</td>\n",
       "      <td>dogs</td>\n",
       "    </tr>\n",
       "    <tr>\n",
       "      <th>9</th>\n",
       "      <td>pred\\31.jpg</td>\n",
       "      <td>0.403049</td>\n",
       "      <td>0</td>\n",
       "      <td>cats</td>\n",
       "    </tr>\n",
       "    <tr>\n",
       "      <th>10</th>\n",
       "      <td>pred\\32.jpg</td>\n",
       "      <td>0.376771</td>\n",
       "      <td>0</td>\n",
       "      <td>cats</td>\n",
       "    </tr>\n",
       "    <tr>\n",
       "      <th>11</th>\n",
       "      <td>pred\\33.jpg</td>\n",
       "      <td>0.949775</td>\n",
       "      <td>1</td>\n",
       "      <td>dogs</td>\n",
       "    </tr>\n",
       "  </tbody>\n",
       "</table>\n",
       "</div>"
      ],
      "text/plain": [
       "       Filenames  Probabilities  Predictions Classes\n",
       "0     pred\\2.jpg       0.103353            0    cats\n",
       "1   pred\\235.jpg       0.001603            0    cats\n",
       "2   pred\\241.jpg       0.419287            0    cats\n",
       "3   pred\\244.jpg       0.215577            0    cats\n",
       "4   pred\\257.jpg       0.511495            1    dogs\n",
       "5   pred\\267.jpg       0.280132            0    cats\n",
       "6    pred\\29.jpg       0.186521            0    cats\n",
       "7   pred\\292.jpg       0.306530            0    cats\n",
       "8    pred\\30.jpg       0.903336            1    dogs\n",
       "9    pred\\31.jpg       0.403049            0    cats\n",
       "10   pred\\32.jpg       0.376771            0    cats\n",
       "11   pred\\33.jpg       0.949775            1    dogs"
      ]
     },
     "execution_count": 124,
     "metadata": {},
     "output_type": "execute_result"
    }
   ],
   "source": [
    "df"
   ]
  },
  {
   "cell_type": "markdown",
   "metadata": {},
   "source": [
    "### Image augmentation practice"
   ]
  },
  {
   "cell_type": "code",
   "execution_count": 132,
   "metadata": {
    "collapsed": true
   },
   "outputs": [],
   "source": [
    "train_generator = ImageDataGenerator(    \n",
    "    rescale=1./255,\n",
    "    rotation_range=40,\n",
    "    width_shift_range=0.2,\n",
    "    height_shift_range=0.2,\n",
    "    shear_range=0.2,\n",
    "    zoom_range=0.2,\n",
    "    horizontal_flip=True,\n",
    "    fill_mode='nearest'\n",
    ")"
   ]
  },
  {
   "cell_type": "code",
   "execution_count": 133,
   "metadata": {
    "collapsed": true
   },
   "outputs": [],
   "source": [
    "test_generator = ImageDataGenerator(    \n",
    "    rescale=1./255\n",
    ")"
   ]
  },
  {
   "cell_type": "code",
   "execution_count": 134,
   "metadata": {},
   "outputs": [
    {
     "name": "stdout",
     "output_type": "stream",
     "text": [
      "Found 22496 images belonging to 2 classes.\n"
     ]
    }
   ],
   "source": [
    "train_datagenerator = train_generator.flow_from_directory(traindir, target_size=(100,100), batch_size = 10, class_mode='binary')"
   ]
  },
  {
   "cell_type": "code",
   "execution_count": 136,
   "metadata": {},
   "outputs": [
    {
     "name": "stdout",
     "output_type": "stream",
     "text": [
      "Found 2502 images belonging to 2 classes.\n"
     ]
    }
   ],
   "source": [
    "test_datagenerator = test_generator.flow_from_directory(testdir, target_size=(100,100), batch_size = 10, class_mode='binary')"
   ]
  },
  {
   "cell_type": "code",
   "execution_count": 137,
   "metadata": {},
   "outputs": [
    {
     "name": "stdout",
     "output_type": "stream",
     "text": [
      "Model: \"sequential_4\"\n",
      "_________________________________________________________________\n",
      "Layer (type)                 Output Shape              Param #   \n",
      "=================================================================\n",
      "conv2d_8 (Conv2D)            (None, 49, 49, 32)        896       \n",
      "_________________________________________________________________\n",
      "max_pooling2d_8 (MaxPooling2 (None, 24, 24, 32)        0         \n",
      "_________________________________________________________________\n",
      "conv2d_9 (Conv2D)            (None, 22, 22, 32)        9248      \n",
      "_________________________________________________________________\n",
      "max_pooling2d_9 (MaxPooling2 (None, 11, 11, 32)        0         \n",
      "_________________________________________________________________\n",
      "flatten_4 (Flatten)          (None, 3872)              0         \n",
      "_________________________________________________________________\n",
      "dense_8 (Dense)              (None, 128)               495744    \n",
      "_________________________________________________________________\n",
      "dense_9 (Dense)              (None, 1)                 129       \n",
      "=================================================================\n",
      "Total params: 506,017\n",
      "Trainable params: 506,017\n",
      "Non-trainable params: 0\n",
      "_________________________________________________________________\n"
     ]
    }
   ],
   "source": [
    "model = tf.keras.Sequential([\n",
    "    tf.keras.layers.Conv2D(32, (3,3), strides= (2,2), activation='relu', input_shape=(100, 100, 3)),\n",
    "    tf.keras.layers.MaxPool2D((2,2)),\n",
    "    tf.keras.layers.Conv2D(32, (3,3), activation='relu'),\n",
    "    tf.keras.layers.MaxPool2D((2,2)),\n",
    "    tf.keras.layers.Flatten(),\n",
    "    tf.keras.layers.Dense(128, activation='relu'),\n",
    "    tf.keras.layers.Dense(1, activation='sigmoid')\n",
    "])\n",
    "model.summary()"
   ]
  },
  {
   "cell_type": "code",
   "execution_count": 139,
   "metadata": {
    "collapsed": true
   },
   "outputs": [],
   "source": [
    "from tensorflow.keras.optimizers import Adam"
   ]
  },
  {
   "cell_type": "code",
   "execution_count": 141,
   "metadata": {
    "collapsed": true,
    "scrolled": true
   },
   "outputs": [],
   "source": [
    "model.compile(optimizer='adam', loss='binary_crossentropy', metrics=['accuracy'])"
   ]
  },
  {
   "cell_type": "code",
   "execution_count": 142,
   "metadata": {},
   "outputs": [
    {
     "name": "stdout",
     "output_type": "stream",
     "text": [
      "Epoch 1/10\n",
      " 303/2250 [===>..........................] - ETA: 7:23 - loss: 0.6980 - accuracy: 0.5086"
     ]
    },
    {
     "name": "stderr",
     "output_type": "stream",
     "text": [
      "e:\\DataScience\\tf\\lib\\site-packages\\PIL\\TiffImagePlugin.py:766: UserWarning: Possibly corrupt EXIF data.  Expecting to read 32 bytes but only got 0. Skipping tag 270\n",
      "  \" Skipping tag %s\" % (size, len(data), tag)\n",
      "e:\\DataScience\\tf\\lib\\site-packages\\PIL\\TiffImagePlugin.py:766: UserWarning: Possibly corrupt EXIF data.  Expecting to read 5 bytes but only got 0. Skipping tag 271\n",
      "  \" Skipping tag %s\" % (size, len(data), tag)\n",
      "e:\\DataScience\\tf\\lib\\site-packages\\PIL\\TiffImagePlugin.py:766: UserWarning: Possibly corrupt EXIF data.  Expecting to read 8 bytes but only got 0. Skipping tag 272\n",
      "  \" Skipping tag %s\" % (size, len(data), tag)\n",
      "e:\\DataScience\\tf\\lib\\site-packages\\PIL\\TiffImagePlugin.py:766: UserWarning: Possibly corrupt EXIF data.  Expecting to read 8 bytes but only got 0. Skipping tag 282\n",
      "  \" Skipping tag %s\" % (size, len(data), tag)\n",
      "e:\\DataScience\\tf\\lib\\site-packages\\PIL\\TiffImagePlugin.py:766: UserWarning: Possibly corrupt EXIF data.  Expecting to read 8 bytes but only got 0. Skipping tag 283\n",
      "  \" Skipping tag %s\" % (size, len(data), tag)\n",
      "e:\\DataScience\\tf\\lib\\site-packages\\PIL\\TiffImagePlugin.py:766: UserWarning: Possibly corrupt EXIF data.  Expecting to read 20 bytes but only got 0. Skipping tag 306\n",
      "  \" Skipping tag %s\" % (size, len(data), tag)\n",
      "e:\\DataScience\\tf\\lib\\site-packages\\PIL\\TiffImagePlugin.py:766: UserWarning: Possibly corrupt EXIF data.  Expecting to read 48 bytes but only got 0. Skipping tag 532\n",
      "  \" Skipping tag %s\" % (size, len(data), tag)\n",
      "e:\\DataScience\\tf\\lib\\site-packages\\PIL\\TiffImagePlugin.py:785: UserWarning: Corrupt EXIF data.  Expecting to read 2 bytes but only got 0. \n",
      "  warnings.warn(str(msg))\n"
     ]
    },
    {
     "name": "stdout",
     "output_type": "stream",
     "text": [
      "2250/2250 [==============================] - 656s 292ms/step - loss: 0.6808 - accuracy: 0.5648 - val_loss: 0.6601 - val_accuracy: 0.6019\n",
      "Epoch 2/10\n",
      "2250/2250 [==============================] - 434s 193ms/step - loss: 0.6196 - accuracy: 0.6565 - val_loss: 0.5788 - val_accuracy: 0.6926\n",
      "Epoch 3/10\n",
      "2250/2250 [==============================] - 357s 159ms/step - loss: 0.5717 - accuracy: 0.6970 - val_loss: 0.5964 - val_accuracy: 0.6775\n",
      "Epoch 4/10\n",
      "2250/2250 [==============================] - 383s 170ms/step - loss: 0.5535 - accuracy: 0.7139 - val_loss: 0.5301 - val_accuracy: 0.7358\n",
      "Epoch 5/10\n",
      "2250/2250 [==============================] - 789s 351ms/step - loss: 0.5415 - accuracy: 0.7236 - val_loss: 0.5237 - val_accuracy: 0.7434\n",
      "Epoch 6/10\n",
      "2250/2250 [==============================] - 548s 244ms/step - loss: 0.5266 - accuracy: 0.7362 - val_loss: 0.5041 - val_accuracy: 0.7474\n",
      "Epoch 7/10\n",
      "2250/2250 [==============================] - 1140s 507ms/step - loss: 0.5197 - accuracy: 0.7409 - val_loss: 0.4861 - val_accuracy: 0.7718\n",
      "Epoch 8/10\n",
      "2250/2250 [==============================] - 1489s 662ms/step - loss: 0.5093 - accuracy: 0.7484 - val_loss: 0.5098 - val_accuracy: 0.7518\n",
      "Epoch 9/10\n",
      "2250/2250 [==============================] - 1316s 585ms/step - loss: 0.5007 - accuracy: 0.7558 - val_loss: 0.5004 - val_accuracy: 0.7542\n",
      "Epoch 10/10\n",
      "2250/2250 [==============================] - 1324s 588ms/step - loss: 0.4960 - accuracy: 0.7574 - val_loss: 0.4756 - val_accuracy: 0.7766\n"
     ]
    }
   ],
   "source": [
    "history = model.fit_generator(train_datagenerator, epochs=10, verbose=1, validation_data=test_datagenerator)"
   ]
  },
  {
   "cell_type": "code",
   "execution_count": 143,
   "metadata": {},
   "outputs": [
    {
     "name": "stderr",
     "output_type": "stream",
     "text": [
      "No handles with labels found to put in legend.\n"
     ]
    },
    {
     "data": {
      "text/plain": [
       "Text(0.5, 1.0, 'Training and Validation Loss')"
      ]
     },
     "execution_count": 143,
     "metadata": {},
     "output_type": "execute_result"
    },
    {
     "data": {
      "image/png": "[encoded data removed]",
      "text/plain": [
       "<Figure size 432x288 with 1 Axes>"
      ]
     },
     "metadata": {
      "needs_background": "light"
     },
     "output_type": "display_data"
    },
    {
     "data": {
      "image/png": "[encoded data removed]",
      "text/plain": [
       "<Figure size 432x288 with 1 Axes>"
      ]
     },
     "metadata": {
      "needs_background": "light"
     },
     "output_type": "display_data"
    }
   ],
   "source": [
    "#Print model statistics\n",
    "acc = history.history['accuracy']\n",
    "val_acc = history.history['val_accuracy']\n",
    "loss = history.history['loss']\n",
    "val_loss = history.history['val_loss']\n",
    "n_epochs = range(len(acc))\n",
    "\n",
    "import matplotlib.image as mpimg\n",
    "\n",
    "plt.plot(n_epochs, acc, 'r', 'Training accuracy')\n",
    "plt.plot(n_epochs, val_acc, 'b', 'Validation accuracy')\n",
    "plt.title('Training and Validation Accuracy')\n",
    "plt.ylim(0,1)\n",
    "plt.ylabel('Accuracy')\n",
    "plt.legend()\n",
    "plt.figure()\n",
    "\n",
    "\n",
    "plt.plot(n_epochs, loss, 'r', 'Training loss')\n",
    "plt.plot(n_epochs, val_loss, 'b', 'Validation loss')\n",
    "plt.title('Training and Validation Loss')"
   ]
  },
  {
   "cell_type": "code",
   "execution_count": null,
   "metadata": {
    "collapsed": true
   },
   "outputs": [],
   "source": [
    "Class myCallback(tf.keras.callbacks.Callback):\n",
    "    def on_epoch_end(self, epoch, logs=None):\n",
    "    keys = list(logs.keys())\n",
    "    print(\"End epoch {} of training; got log keys: {}\".format(epoch, keys))\n",
    "    if logs['accuracy']>0.9:\n",
    "        self.model.stop_training = True\n",
    "\n",
    "callbacks = myCallback()"
   ]
  },
  {
   "cell_type": "code",
   "execution_count": null,
   "metadata": {
    "collapsed": true
   },
   "outputs": [],
   "source": [
    "history = model.fit_generator(train_datagenerator, epochs=10, verbose=1, validation_data=test_datagenerator, callbacks=backs = [callbacks])"
   ]
  }
 ],
 "metadata": {
  "kernelspec": {
   "display_name": "TensorFlow",
   "language": "python",
   "name": "tensorflow"
  },
  "language_info": {
   "codemirror_mode": {
    "name": "ipython",
    "version": 3
   },
   "file_extension": ".py",
   "mimetype": "text/x-python",
   "name": "python",
   "nbconvert_exporter": "python",
   "pygments_lexer": "ipython3",
   "version": "3.6.1"
  }
 },
 "nbformat": 4,
 "nbformat_minor": 2
}
